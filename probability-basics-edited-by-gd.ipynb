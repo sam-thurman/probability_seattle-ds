{
 "cells": [
  {
   "cell_type": "markdown",
   "metadata": {},
   "source": [
    "\n",
    "# Inferential Statistics\n",
    "\n",
    "Earlier we looked at *descriptive* statistics: starting with a dataset and making various observations (overall shape, histogram, outliers, etc.) as well as calculations of quantities that can characterize the dataset as a whole (mean, median, mode, variance, standard deviation, quartiles, percentiles, etc.).\n",
    "\n",
    "To make the move into inferential statistics, we need to imagine now that *we don't have* (or anyway cannot *measure*) all the data of interest.\n",
    "\n",
    "And this is, of course, the typical situation. Consider:\n",
    "\n",
    "- A zoologist wanting to know the typical lifespan of a Siberian tiger\n",
    "- A cosmologist wanting to know the mass of a normal white dwarf star\n",
    "- A businesswoman wanting to know how many M&M's her customers should expect to find in their Party Size bags\n",
    "- A botanist wanting to know how tall California redwoods usually grow\n",
    "\n",
    "The zoologist could, in principle:\n",
    "1. keep track of every currently existing Siberian tiger;\n",
    "2. record their (more or less) exact ages at their moments of death;\n",
    "3. add up those ages and divide by the number of tigers to calculate an average lifespan\n",
    "\n",
    "––But **only** in principle. In all of these situations, there is no realistic or practical opportunity to check each relevant data point.\n",
    "\n",
    "What we can do, however, is to check *some* of the data points we want to check. That is, we'll draw a *sample* of data from our *population* of interest. We can then use the techniques of descriptive statistics to characterize our sample.\n",
    "\n",
    "Does this help? The hope, of course, is that our sample will be *representative* of the population as a whole, which would justify our using facts about the sample to ***infer*** things about the population as a whole. But naturally we'll expect a certain amount of **error**: If I take the mean of a sample, $\\bar{x}$ and project it as an estimate of the mean of the whole population, $\\mu$, the estimate is bound to be imperfect.\n",
    "\n",
    "Inferential statistics makes all this precise. Some of this gets fairly technical, hence the need for a whole unit on it!\n",
    "\n",
    "**Quick discussion question: How would inferential statistics be relevant to the practicing data scientist?**"
   ]
  },
  {
   "cell_type": "markdown",
   "metadata": {
    "slideshow": {
     "slide_type": "slide"
    }
   },
   "source": [
    "# Probabilty Fundamentals\n",
    "\n",
    "![xkcd](img/increased_risk_2x.png)\n",
    "\n",
    "[xkcd comic 1252](https://xkcd.com/1252/)"
   ]
  },
  {
   "cell_type": "markdown",
   "metadata": {
    "slideshow": {
     "slide_type": "slide"
    }
   },
   "source": [
    "Learning goals for today:\n",
    "- Develop a picture of probability  \n",
    "- Describe set theory and its terminology\n",
    "- Define the size of sets with permutations and combinations\n",
    "- Define conditional probability"
   ]
  },
  {
   "cell_type": "markdown",
   "metadata": {
    "slideshow": {
     "slide_type": "slide"
    }
   },
   "source": [
    "## Learning Goal 1:\n",
    "\n",
    "### Opening Task:\n",
    "\n",
    "Let's consider these two scenarios and think about how we might solve them."
   ]
  },
  {
   "cell_type": "markdown",
   "metadata": {
    "slideshow": {
     "slide_type": "slide"
    }
   },
   "source": [
    "### Scenario 1\n",
    "\n",
    "> Paul has the option between a high deductible plan and a low deductible plan for health insurance. \n",
    "If Paul chooses the low deductible plan he will pay the first 1000 dollars of any medical costs. The low deductible plan costs 8000 dollars.<br>\n",
    "> If Paul chooses the high deductible plan he will pay the first 2500 dollars of any medical costs. The high deductible plan costs 7500 dollars. <br>\n",
    "> Paul found a table of data on the frequency of medical costs. Based on this table, which should he choose?\n",
    "\n",
    "| Cost | Probability|\n",
    "|:----:|:-------:|\n",
    "|0 | 30% |\n",
    "|1000 | 25%|\n",
    "|4000 | 20% |\n",
    "|7000 | 20% |\n",
    "|15000 | 5% |"
   ]
  },
  {
   "cell_type": "markdown",
   "metadata": {
    "slideshow": {
     "slide_type": "slide"
    }
   },
   "source": [
    "### Scenario 2\n",
    "\n",
    ">A drawer contains red socks and black socks. When two socks are drawn at random, the probability that both are red is 1/2. <br> \n",
    ">a) How small can the number of socks in the drawer be?<br>\n",
    ">b) How small if the number of black socks is even?\n",
    "\n",
    "[the sock problem](https://engineering-math.org/2017/05/10/the-sock-drawer-probability-and-statistics-problem/)"
   ]
  },
  {
   "cell_type": "markdown",
   "metadata": {
    "slideshow": {
     "slide_type": "slide"
    }
   },
   "source": [
    "__What are probabilities?__<br>\n",
    "Probability theory is the study of the frequency of a given event occuring with respect to all possible events. In this section we'll discuss the event space & sets, calculate the probability of events, and discuss the relevance of probability theory in data science. <br>"
   ]
  },
  {
   "cell_type": "markdown",
   "metadata": {
    "slideshow": {
     "slide_type": "slide"
    }
   },
   "source": [
    "__What should I care about probabilities?__<br>\n",
    "Studying probabilities allows us to make better and more informed decisions, based on data previously collected. For example, understanding the fact that it is nearly impossible for us to ever win the lottery from a probabilistically stand point deters us from ever using that as a source of income. <br>\n",
    "Probability theory also lies at the heart of making inferences using our data, which is what statistics is all about!"
   ]
  },
  {
   "cell_type": "markdown",
   "metadata": {
    "slideshow": {
     "slide_type": "slide"
    }
   },
   "source": [
    "## II. Set Theory\n",
    "In probability theory, a set is a well-defined collection of objects.\n",
    "If an element $x$ belongs to a set $S$, then you'd write $x \\in S$. On the other hand, if $x$ does not belong to a set $S$, then you'd write $x\\notin S$."
   ]
  },
  {
   "cell_type": "markdown",
   "metadata": {},
   "source": [
    "In Python, if I want to make a set, I can use the base function `set()`, or I can use '{' and '}'. But be careful! The input to `set()` must be an iterable. And remember that `{}` will initiate an empty _dictionary_."
   ]
  },
  {
   "cell_type": "code",
   "execution_count": 33,
   "metadata": {},
   "outputs": [],
   "source": [
    "a = set([1, 2])"
   ]
  },
  {
   "cell_type": "code",
   "execution_count": 34,
   "metadata": {},
   "outputs": [],
   "source": [
    "b = {1, 2}"
   ]
  },
  {
   "cell_type": "code",
   "execution_count": 35,
   "metadata": {},
   "outputs": [
    {
     "data": {
      "text/plain": [
       "True"
      ]
     },
     "execution_count": 35,
     "metadata": {},
     "output_type": "execute_result"
    }
   ],
   "source": [
    "a == b"
   ]
  },
  {
   "cell_type": "code",
   "execution_count": 36,
   "metadata": {},
   "outputs": [],
   "source": [
    "a = set(['greg'])"
   ]
  },
  {
   "cell_type": "code",
   "execution_count": 37,
   "metadata": {},
   "outputs": [
    {
     "data": {
      "text/plain": [
       "{'greg'}"
      ]
     },
     "execution_count": 37,
     "metadata": {},
     "output_type": "execute_result"
    }
   ],
   "source": [
    "a"
   ]
  },
  {
   "cell_type": "code",
   "execution_count": 38,
   "metadata": {},
   "outputs": [],
   "source": [
    "b = {'greg'}"
   ]
  },
  {
   "cell_type": "code",
   "execution_count": 39,
   "metadata": {},
   "outputs": [],
   "source": [
    "c = set('greg')"
   ]
  },
  {
   "cell_type": "code",
   "execution_count": 40,
   "metadata": {},
   "outputs": [
    {
     "data": {
      "text/plain": [
       "{'e', 'g', 'r'}"
      ]
     },
     "execution_count": 40,
     "metadata": {},
     "output_type": "execute_result"
    }
   ],
   "source": [
    "c"
   ]
  },
  {
   "cell_type": "code",
   "execution_count": 41,
   "metadata": {},
   "outputs": [
    {
     "data": {
      "text/plain": [
       "True"
      ]
     },
     "execution_count": 41,
     "metadata": {},
     "output_type": "execute_result"
    }
   ],
   "source": [
    "a == b"
   ]
  },
  {
   "cell_type": "code",
   "execution_count": 42,
   "metadata": {},
   "outputs": [
    {
     "data": {
      "text/plain": [
       "False"
      ]
     },
     "execution_count": 42,
     "metadata": {},
     "output_type": "execute_result"
    }
   ],
   "source": [
    "a == c"
   ]
  },
  {
   "cell_type": "markdown",
   "metadata": {
    "slideshow": {
     "slide_type": "slide"
    }
   },
   "source": [
    "__2.1 Subsets__ <br>\n",
    "Set $T$ is a subset of set $S$ if every element in set $T$ is also in set $S$. The mathematical notation for a subset is $T \\subset S$.\n",
    "\n",
    "The empty set, $\\emptyset$ or { }, is trivially a subset of every set. (Question: Is there only one empty  set? How do we know?)\n",
    "\n",
    "__2.2 Set Operations__ <br>\n",
    "\n",
    "    - Union of Two Sets: The union of 2 sets S and T is the set of elements of either S or T, or in both.\n",
    "    \n",
    "    - The intersection of two sets S and T is the set that contains all elements of S that also belong to T."
   ]
  },
  {
   "cell_type": "markdown",
   "metadata": {
    "slideshow": {
     "slide_type": "slide"
    }
   },
   "source": [
    "We are trying to create rooming arrangements based on staff interest for a staff trip. <br>\n",
    "Who should room with whom based on interests?"
   ]
  },
  {
   "cell_type": "code",
   "execution_count": 43,
   "metadata": {
    "slideshow": {
     "slide_type": "fragment"
    }
   },
   "outputs": [],
   "source": [
    "Robin = {\"art\", \"traveling\", \"wine\", \"doodling\", \"tech\", \"gadgets\"}\n",
    "Rob = {\"rock-climbing\", \"traveling\", \"dad jokes\", \"ice cream\"}\n",
    "Alison = {\"wine\", \"traveling\", \"Schitts Creek\", \"dogs\"}\n",
    "Su = {\"Schitts Creek\", \"dogs\", \"tarot card reading\", \"croquet\", \"taxonomy\"}\n",
    "Molly = {\"wine\", \"ice cream\", \"dogs\", \"zookeeping\", \"traveling\"}"
   ]
  },
  {
   "cell_type": "code",
   "execution_count": 44,
   "metadata": {},
   "outputs": [
    {
     "data": {
      "text/plain": [
       "{'traveling', 'wine'}"
      ]
     },
     "execution_count": 44,
     "metadata": {},
     "output_type": "execute_result"
    }
   ],
   "source": [
    "Robin.intersection(Alison)"
   ]
  },
  {
   "cell_type": "code",
   "execution_count": 45,
   "metadata": {},
   "outputs": [
    {
     "data": {
      "text/plain": [
       "{'traveling'}"
      ]
     },
     "execution_count": 45,
     "metadata": {},
     "output_type": "execute_result"
    }
   ],
   "source": [
    "Rob.intersection(Alison)"
   ]
  },
  {
   "cell_type": "code",
   "execution_count": 46,
   "metadata": {},
   "outputs": [
    {
     "data": {
      "text/plain": [
       "{'Schitts Creek', 'dogs'}"
      ]
     },
     "execution_count": 46,
     "metadata": {},
     "output_type": "execute_result"
    }
   ],
   "source": [
    "Alison.intersection(Su)"
   ]
  },
  {
   "cell_type": "code",
   "execution_count": 47,
   "metadata": {},
   "outputs": [
    {
     "data": {
      "text/plain": [
       "{'Schitts Creek',\n",
       " 'croquet',\n",
       " 'dogs',\n",
       " 'ice cream',\n",
       " 'tarot card reading',\n",
       " 'taxonomy',\n",
       " 'traveling',\n",
       " 'wine',\n",
       " 'zookeeping'}"
      ]
     },
     "execution_count": 47,
     "metadata": {},
     "output_type": "execute_result"
    }
   ],
   "source": [
    "Su.union(Molly)"
   ]
  },
  {
   "cell_type": "code",
   "execution_count": 48,
   "metadata": {},
   "outputs": [
    {
     "data": {
      "text/plain": [
       "{'traveling'}"
      ]
     },
     "execution_count": 48,
     "metadata": {},
     "output_type": "execute_result"
    }
   ],
   "source": [
    "Molly.intersection(Rob).intersection(Robin)"
   ]
  },
  {
   "cell_type": "code",
   "execution_count": 49,
   "metadata": {},
   "outputs": [
    {
     "data": {
      "text/plain": [
       "{'traveling', 'wine'}"
      ]
     },
     "execution_count": 49,
     "metadata": {},
     "output_type": "execute_result"
    }
   ],
   "source": [
    "Molly.union(Rob).intersection(Robin)"
   ]
  },
  {
   "cell_type": "code",
   "execution_count": 50,
   "metadata": {},
   "outputs": [
    {
     "data": {
      "text/plain": [
       "{'Schitts Creek', 'dogs'}"
      ]
     },
     "execution_count": 50,
     "metadata": {},
     "output_type": "execute_result"
    }
   ],
   "source": [
    "Alison.intersection(Su)"
   ]
  },
  {
   "cell_type": "code",
   "execution_count": 51,
   "metadata": {},
   "outputs": [
    {
     "data": {
      "text/plain": [
       "{'dogs'}"
      ]
     },
     "execution_count": 51,
     "metadata": {},
     "output_type": "execute_result"
    }
   ],
   "source": [
    "Su.intersection(Molly)"
   ]
  },
  {
   "cell_type": "markdown",
   "metadata": {
    "slideshow": {
     "slide_type": "slide"
    }
   },
   "source": [
    "**Task**:\n",
    "\n",
    "Take a minute to draw a Venn diagram of how the interests of Su and Molly overlap. What's in the intersection of these two sets?"
   ]
  },
  {
   "cell_type": "markdown",
   "metadata": {
    "slideshow": {
     "slide_type": "slide"
    }
   },
   "source": [
    "## Foundations of (Independent) Probabilities \n",
    "\n",
    "What's the probability that a staff person likes wine?\n",
    "\n",
    "That's a very specific probability example.\n",
    "\n",
    "But there are other applications and terminology that are important for probability. \n",
    "\n",
    "\n",
    "In this section, we will introduce you to the foundation of independent probability theory. Later on in the course, you will be introduced to concepts such as conditional probability and probability of dependent events."
   ]
  },
  {
   "cell_type": "markdown",
   "metadata": {
    "slideshow": {
     "slide_type": "slide"
    }
   },
   "source": [
    "__Terminology Alert__ \n",
    "- Random Variable\n",
    "    - A random variable is a variable whose outcome is the result of a random phenomenon which can take on different values\n",
    "    - A random variable can either be discrete or continuous\n",
    "        - __Discrete__ : the variable takes on integer values\n",
    "        - __Continous__ : can take on any values"
   ]
  },
  {
   "cell_type": "markdown",
   "metadata": {
    "slideshow": {
     "slide_type": "slide"
    }
   },
   "source": [
    "####  Probability of A and B \n",
    "<center>$P(A [and] B) = P(A) * P(B)$</center>\n",
    "\n",
    "What's the probability that a staff person likes wine *and* likes dogs?"
   ]
  },
  {
   "cell_type": "markdown",
   "metadata": {
    "slideshow": {
     "slide_type": "slide"
    }
   },
   "source": [
    "#### Probabilities of A or B\n",
    "<center>$P(A  [or]  B) = P(A) + P(B) - P(A  [and]  B)$</center>\n",
    "\n",
    "What's the probabilty that someone like ice cream *or* traveling?"
   ]
  },
  {
   "cell_type": "markdown",
   "metadata": {
    "slideshow": {
     "slide_type": "slide"
    }
   },
   "source": [
    "What happens when you have multiple events? "
   ]
  },
  {
   "cell_type": "markdown",
   "metadata": {
    "slideshow": {
     "slide_type": "fragment"
    }
   },
   "source": [
    "$ P(A [or] B [or] C) = P(A) + P(B) + P(C) - P(A [and] B) - P(A [and] C) - P(B [and] C) + P(A [and] B [and] C) $"
   ]
  },
  {
   "cell_type": "markdown",
   "metadata": {
    "slideshow": {
     "slide_type": "slide"
    }
   },
   "source": [
    "## Counting: Permutations & Combinations\n",
    "Help us define the full *set* of options related to a probability"
   ]
  },
  {
   "cell_type": "markdown",
   "metadata": {},
   "source": [
    "Permutations and combinations are helpful when we're trying to solve **counting problems**.\n",
    "\n",
    "Consider the following counting problem:\n",
    "\n",
    "Setup: A number of cards, each with a letter on one side and a number on the other.\n",
    "\n",
    "Claim: Every card with a vowel on one side has an even number on the other.\n",
    "\n",
    "Cards:\n",
    "\n",
    "$\n",
    "\\begin{bmatrix}\n",
    "\\begin{bmatrix}\n",
    "E\n",
    "\\end{bmatrix}\n",
    "&\n",
    "\\begin{bmatrix}\n",
    "4\n",
    "\\end{bmatrix}\n",
    "&\n",
    "\\begin{bmatrix}\n",
    "L\n",
    "\\end{bmatrix}\n",
    "&\n",
    "\\begin{bmatrix}\n",
    "3\n",
    "\\end{bmatrix}\n",
    "\\end{bmatrix}\n",
    "$\n",
    "\n",
    "Question: How many cards do I need to turn over to test the claim?"
   ]
  },
  {
   "cell_type": "markdown",
   "metadata": {
    "slideshow": {
     "slide_type": "slide"
    }
   },
   "source": [
    "### Permutations\n",
    "Ordering matters <br/>\n",
    "How many different arrangements can you get out of a number of elements? <br/>\n",
    "The number of arrangements of $r$ elements out of a total of $n$ elements is given by: $\\Large\\frac{n!}{(n – r)!}$.\n",
    "        \n",
    "Why is this the right formula?\n",
    "\n",
    "We have:\n",
    "- $n$ choices for the item in the first position;\n",
    "- $n-1$ choices for the item in the second position (since we've reserved one of the original items for the first position);\n",
    "- ... ;\n",
    "- and $n-(r-1)=n-r+1$ choices for the item in the last position.\n",
    "\n",
    "So that's $n!$ without the terms below $n-r+1$, i.e. $\\frac{n!}{(n-r)!}$."
   ]
  },
  {
   "cell_type": "code",
   "execution_count": 52,
   "metadata": {
    "slideshow": {
     "slide_type": "fragment"
    }
   },
   "outputs": [
    {
     "name": "stdout",
     "output_type": "stream",
     "text": [
      "[(1, 2, 3), (1, 3, 2), (2, 1, 3), (2, 3, 1), (3, 1, 2), (3, 2, 1)]\n"
     ]
    }
   ],
   "source": [
    "from itertools import permutations \n",
    "l = list(permutations(range(1, 4))) \n",
    "print(l)"
   ]
  },
  {
   "cell_type": "markdown",
   "metadata": {},
   "source": [
    "#### Easiest Scenario:\n",
    "\n",
    "How many ways are there of arranging the letters in 'damico'?"
   ]
  },
  {
   "cell_type": "code",
   "execution_count": 53,
   "metadata": {},
   "outputs": [
    {
     "data": {
      "text/plain": [
       "720"
      ]
     },
     "execution_count": 53,
     "metadata": {},
     "output_type": "execute_result"
    }
   ],
   "source": [
    "from math import factorial\n",
    "\n",
    "factorial(6)"
   ]
  },
  {
   "cell_type": "markdown",
   "metadata": {},
   "source": [
    "#### Intermediate Scenario:\n",
    "\n",
    "How many ways are there of arranging the letters in 'greg'?"
   ]
  },
  {
   "cell_type": "markdown",
   "metadata": {},
   "source": [
    "eggr, egrg, ergg\n",
    "gegr, gerg, gger, ggre, greg, grge\n",
    "regg, rgeg, rgge"
   ]
  },
  {
   "cell_type": "markdown",
   "metadata": {
    "slideshow": {
     "slide_type": "slide"
    }
   },
   "source": [
    "#### Tough Scenario:\n",
    "\n",
    "You are trying to break the code - to hack into the mainframe, and stop the KGB from launching US missiles remotely.\n",
    "\n",
    "You know the password is some 5 letter anagram of a subset of the word \"pochemuchka\"\n",
    "\n",
    "How many words potential passwords are there? i.e., how large is the **set** of password options?"
   ]
  },
  {
   "cell_type": "code",
   "execution_count": 54,
   "metadata": {
    "slideshow": {
     "slide_type": "skip"
    }
   },
   "outputs": [],
   "source": [
    "from itertools import permutations \n",
    "l = list(permutations(\"pochemuchka\", 5)) "
   ]
  },
  {
   "cell_type": "code",
   "execution_count": 55,
   "metadata": {},
   "outputs": [
    {
     "data": {
      "text/plain": [
       "55440"
      ]
     },
     "execution_count": 55,
     "metadata": {},
     "output_type": "execute_result"
    }
   ],
   "source": [
    "len(l)"
   ]
  },
  {
   "cell_type": "code",
   "execution_count": 56,
   "metadata": {},
   "outputs": [
    {
     "data": {
      "text/plain": [
       "55440"
      ]
     },
     "execution_count": 56,
     "metadata": {},
     "output_type": "execute_result"
    }
   ],
   "source": [
    "11 * 10 * 9 * 8 * 7"
   ]
  },
  {
   "cell_type": "code",
   "execution_count": 57,
   "metadata": {},
   "outputs": [
    {
     "data": {
      "text/plain": [
       "22050"
      ]
     },
     "execution_count": 57,
     "metadata": {},
     "output_type": "execute_result"
    }
   ],
   "source": [
    "len(set(l))"
   ]
  },
  {
   "cell_type": "markdown",
   "metadata": {
    "slideshow": {
     "slide_type": "slide"
    }
   },
   "source": [
    "What's the probability that the password starts with p?"
   ]
  },
  {
   "cell_type": "code",
   "execution_count": null,
   "metadata": {
    "slideshow": {
     "slide_type": "skip"
    }
   },
   "outputs": [],
   "source": []
  },
  {
   "cell_type": "markdown",
   "metadata": {
    "slideshow": {
     "slide_type": "slide"
    }
   },
   "source": [
    "### Combinations\n",
    "Ordering does not matter. <br/>\n",
    "How many different selections can you get out of a number of elements? <br/>\n",
    "The number of selections of $r$ out of a total of $n$ elements is given by: $\\Large{n\\choose r} = \\frac{n!}{r!(n – r)!}$.\n",
    "\n",
    "Why is this the right formula?\n",
    "\n",
    "We have:\n",
    "\n",
    "The count is related to the number of associated permutations of $r$ elements, choosing from a total of $n$, namely $\\frac{n!}{(n-r)!}$.\n",
    "\n",
    "But since order doesn't matter, we need to divide our count by the number of ways of arranging the $r$ objects we've chosen. And we know what that number is: It's simply $r!$.\n",
    "\n",
    "So our total count will be $\\frac{n!}{(n-r)!r!}$."
   ]
  },
  {
   "cell_type": "markdown",
   "metadata": {},
   "source": [
    "#### Easier Scenario:\n",
    "\n",
    "How many ways are there of choosing two students from a group of six?"
   ]
  },
  {
   "cell_type": "code",
   "execution_count": 58,
   "metadata": {},
   "outputs": [
    {
     "data": {
      "text/plain": [
       "15"
      ]
     },
     "execution_count": 58,
     "metadata": {},
     "output_type": "execute_result"
    }
   ],
   "source": [
    "factorial(6) // (factorial(2) * factorial(4))"
   ]
  },
  {
   "cell_type": "markdown",
   "metadata": {},
   "source": [
    "#### Harder Scenario:\n",
    "\n",
    "What are the chances of getting exactly 3 \"heads\" on 5 flips?\n",
    "\n",
    "--> We'll look at the binomial distribution soon!"
   ]
  },
  {
   "cell_type": "code",
   "execution_count": 59,
   "metadata": {},
   "outputs": [],
   "source": [
    "from count_class import Counter"
   ]
  },
  {
   "cell_type": "code",
   "execution_count": 60,
   "metadata": {},
   "outputs": [],
   "source": [
    "c = Counter(arr='pochemuchka')"
   ]
  },
  {
   "cell_type": "code",
   "execution_count": 63,
   "metadata": {},
   "outputs": [
    {
     "name": "stdout",
     "output_type": "stream",
     "text": [
      "15.3 s ± 166 ms per loop (mean ± std. dev. of 7 runs, 1 loop each)\n"
     ]
    }
   ],
   "source": [
    "%timeit c.calc(5, order=True)"
   ]
  },
  {
   "cell_type": "code",
   "execution_count": 62,
   "metadata": {},
   "outputs": [
    {
     "data": {
      "text/plain": [
       "6"
      ]
     },
     "execution_count": 62,
     "metadata": {},
     "output_type": "execute_result"
    }
   ],
   "source": [
    "c2 = Counter(arr='tttuup')\n",
    "c2.calc(3)"
   ]
  },
  {
   "cell_type": "code",
   "execution_count": 64,
   "metadata": {},
   "outputs": [
    {
     "data": {
      "text/plain": [
       "[('t', 't', 'p'),\n",
       " ('t', 'u', 'u'),\n",
       " ('t', 'u', 'p'),\n",
       " ('t', 't', 'u'),\n",
       " ('t', 't', 't'),\n",
       " ('u', 'u', 'p')]"
      ]
     },
     "execution_count": 64,
     "metadata": {},
     "output_type": "execute_result"
    }
   ],
   "source": [
    "c2.final_list"
   ]
  },
  {
   "cell_type": "code",
   "execution_count": 65,
   "metadata": {},
   "outputs": [
    {
     "data": {
      "text/plain": [
       "20"
      ]
     },
     "execution_count": 65,
     "metadata": {},
     "output_type": "execute_result"
    }
   ],
   "source": [
    "c3 = Counter('qwerty')\n",
    "c3.calc(3)"
   ]
  },
  {
   "cell_type": "code",
   "execution_count": 66,
   "metadata": {},
   "outputs": [
    {
     "data": {
      "text/plain": [
       "325"
      ]
     },
     "execution_count": 66,
     "metadata": {},
     "output_type": "execute_result"
    }
   ],
   "source": [
    "c4 = Counter('qwertyuiopasdfghjklzxcvbnm')\n",
    "c4.calc(2)"
   ]
  },
  {
   "cell_type": "markdown",
   "metadata": {},
   "source": [
    "### Repeatable Elements\n",
    "\n",
    "Sometimes *neither* combinations nor permutations are appropriate for solving our counting problem because elements are in an important sense **repeatable**. This is analogous to sampling **without replacement**.\n",
    "\n",
    "Example (order matters):\n",
    "\n",
    "An iPhone password consists of four base-10 digits. How many passwords are possible?\n",
    "\n",
    "Answer:\n",
    "\n",
    "We could choose any one of the ten digits for the first number in the password. Then we can again *choose any one of the ten digits for the second number in the password*. And so on. So our total count is:\n",
    "\n",
    "$10\\times 10\\times 10\\times 10 = 10000$."
   ]
  },
  {
   "cell_type": "markdown",
   "metadata": {},
   "source": [
    "Example (order doesn't matter):\n",
    "\n",
    "I'm attempting to buy a candy bar at the Topsy-Turvy Store but the clerk is playing a game with me. She's told me that the candy bar can only be bought for one particular combination of three Topsy-Turvy coins (repeats allowed), which come in the following values: blue, green, and red. I have at least three of each of these coin types. How many possible prices are there for the candy bar?\n",
    "\n",
    "Answer:\n",
    "\n",
    "Let's count, the brute-force way:\n",
    "1. three blues\n",
    "2. two blues and one green\n",
    "3. two blues and one red\n",
    "4. one blue and two greens\n",
    "5. one blue, one green, and one red\n",
    "6. one blue and two reds\n",
    "7. three greens\n",
    "8. two greens and one red\n",
    "9. one green and two reds\n",
    "10. three reds\n",
    "\n",
    "More generally, there are three possibilities. We can:\n",
    "\n",
    "- choose one of each color. There's only one way to do that. (1)\n",
    "- choose two of one color and one of a second color. There are six ways to do that. (7)\n",
    "- choose all three of the same color. There are three ways to do that. (10)"
   ]
  },
  {
   "cell_type": "markdown",
   "metadata": {},
   "source": [
    "## Conditional Probability"
   ]
  },
  {
   "cell_type": "markdown",
   "metadata": {},
   "source": [
    "### Fermat and Pascal: The Unfinished Game\n",
    "\n",
    "$\\rightarrow$ This example borrowed from Peter Norvig's excellent repo [here](https://github.com/norvig/pytudes).\n",
    "\n",
    "<table>\n",
    "<tr><td><img src=\"https://upload.wikimedia.org/wikipedia/commons/thumb/9/98/Pierre_de_Fermat2.png/140px-Pierre_de_Fermat2.png\"><center><a href=\"https://en.wikipedia.org/wiki/Pierre_de_Fermat\">Pierre de Fermat</a><br>1654\n",
    "<td><img src=\"https://www.umass.edu/wsp/images/pascal.jpg\"><center><a href=\"https://en.wikipedia.org/wiki/Blaise_Pascal\">Blaise Pascal]</a><br>1654\n",
    "</table>\n",
    "\n",
    "Consider a gambling game consisting of tossing a coin repeatedly. Player H wins the game as soon as a total of 10 heads come up, and T wins if a total of 10 tails come up before H wins. If the game is interrupted when H has 8 heads and T has 7 tails, how should the pot of money (which happens to be 100 Francs) be split?  Here are some proposals, and arguments against them:\n",
    "- It is uncertain, so just split the pot 50-50. \n",
    "<br>*No, because surely H is more likely to win.*\n",
    "- In proportion to each player's current score, so H gets a 8/(8+7) share. \n",
    "<br>*No, because if the score was 0 heads to 1 tail, H should get more than 0/1.*\n",
    "- In proportion to how many tosses the opponent needs to win, so H gets 3/(3+2). \n",
    "<br>*This seems better, but no, if H is 9 away and T is only 1 away from winning, then it seems that giving H a 1/10 share is too much.*\n",
    "\n",
    "In 1654, Blaise Pascal and Pierre de Fermat corresponded on this problem, with Fermat [writing](http://mathforum.org/isaac/problems/prob1.html):\n",
    "\n",
    ">Dearest Blaise,\n",
    "\n",
    ">As to the problem of how to divide the 100 Francs, I think I have found a solution that you will find to be fair. Seeing as I needed only two points to win the game, and you needed 3, I think we can establish that after four more tosses of the coin, the game would have been over. For, in those four tosses, if you did not get the necessary 3 points for your victory, this would imply that I had in fact gained the necessary 2 points for my victory. In a similar manner, if I had not achieved the necessary 2 points for my victory, this would imply that you had in fact achieved at least 3 points and had therefore won the game. Thus, I believe the following list of possible endings to the game is exhaustive. I have denoted 'heads' by an 'h', and tails by a 't.' I have starred the outcomes that indicate a win for myself.\n",
    "\n",
    ">       h h h h *       h h h t *       h h t h *       h h t t *\n",
    ">       h t h h *       h t h t *       h t t h *       h t t t\n",
    ">       t h h h *       t h h t *       t h t h *       t h t t\n",
    ">       t t h h *       t t h t         t t t h         t t t t\n",
    "\n",
    ">I think you will agree that all of these outcomes are equally likely. Thus I believe that we should divide the stakes by the ration 11:5 in my favor, that is, I should receive (11/16)&times;100 = 68.75 Francs, while you should receive 31.25 Francs.\n",
    "\n",
    "\n",
    ">I hope all is well in Paris,\n",
    "\n",
    ">Your friend and colleague,\n",
    "\n",
    ">Pierre\n",
    "\n",
    "Pascal agreed with this solution, and [replied](http://mathforum.org/isaac/problems/prob2.html) with a generalization that made use of his previous invention, Pascal's Triangle. There's even [a book](https://smile.amazon.com/Unfinished-Game-Pascal-Fermat-Seventeenth-Century/dp/0465018963?sa-no-redirect=1) about it."
   ]
  },
  {
   "cell_type": "markdown",
   "metadata": {},
   "source": [
    "\n",
    "It's an obvious point that the probability of either man winning depends on the results of the coin flips so far. One might like to know not just what, say, Fermat's chances of winning are at this point but also what his chances of  winning would be **given that the next flip results in a 'heads'**. This is asking about a ***conditional probability***.\n",
    "\n",
    "The probability that Fermat wins the game may be 68.75%, but what would it be if the next flip is 'heads'?\n",
    "\n",
    "This would make the score 9H - 7T, and so the possible conclusions would then be:\n",
    "\n",
    "- H (50% chance; Fermat wins 10-7)\n",
    "- TH (25% chance; Fermat  wins 10-8)\n",
    "- TTH (12.5% chance; Fermat wins 10-9)\n",
    "- TTT (12.5% chance; Pascal wins 10-9)\n",
    "\n",
    "So the probability that Fermat wins, **given that the next flip is 'heads'**, $P(F | H)$, is 87.5%.\n",
    "\n",
    "The probability of Fermat winning has increased, which is to say that the events of (a) the next flip being 'heads' and (b) Fermat winning the game are **not independent**: (a) makes (b) more likely.\n",
    "\n",
    "When events **are** independent, the rule for probabilistic AND (I'll use '$\\cap$' below) is simple:\n",
    "- $P(a\\cap b) = P(a)\\times P(b)$.\n",
    "\n",
    "But the more general rule is:\n",
    "\n",
    "- $\\huge P(a\\cap b) = P(a | b)\\times P(b)$.\n",
    "\n",
    "In fact, this is the definition of conditional probability. Rearranging:\n",
    "\n",
    "- $\\huge P(a | b) = \\frac{P(a\\cap b)}{P(b)}$\n",
    "\n",
    "Note that, when $a$ and $b$ are independent, then we have:\n",
    "\n",
    "- $P(a | b) = \\frac{P(a\\cap b)}{P(b)} = \\frac{P(a)\\times P(b)}{P(b)} = P(a)$.\n",
    "\n",
    "Of course, $P(a\\cap b) = P(b\\cap a)$, so we could equally well write:\n",
    "\n",
    "- $P(a\\cap b) = P(b | a)\\times P(a)$.\n",
    "\n",
    "This equivalence leads to an important theorem of conditional probability:\n",
    "\n",
    "$P(a | b)\\times P(b) = P(b | a)\\times P(a)$ <br/>\n",
    "Thus: <br/>\n",
    "$\\huge P(a | b) = \\frac{P(a)\\times P(b | a)}{P(b)}$.\n",
    "\n",
    "This is **Bayes's Theorem**. We'll have more to say about this next week.\n",
    "\n",
    "Let's see how we can use Bayes's Theorem to solve a conditional probability problem.\n",
    "\n",
    "Suppose we have the following probabilities:\n",
    "\n",
    "- The probability of rain tomorrow is 0.8;\n",
    "- The probability that I take my umbrella tomorrow, given that it rains, is 0.9.\n",
    "\n",
    "What is the probability that *both* (a) it rains tomorrow and (b) I take my umbrella?"
   ]
  },
  {
   "cell_type": "code",
   "execution_count": 56,
   "metadata": {},
   "outputs": [],
   "source": [
    "prob_rain = 0.8                           # P(r)\n",
    "prob_umb_if_rain = 0.9                    # P(u | r)\n",
    "\n",
    "prob_rain_and_umb = 0.8 * 0.9             # P(r AND u)\n",
    "prob_rain_and_umb"
   ]
  },
  {
   "cell_type": "markdown",
   "metadata": {},
   "source": [
    "## The Law of Total Probability\n",
    "\n",
    "Sometimes we want to calculate an **unconditional** probability by making use of some conditional probabilities. Suppose we want to calculate the probability of $e$, the event that Two-Face will free his hostages. And suppose that we already know:\n",
    "\n",
    "- $P(e\\cap H) = 0.9$, and\n",
    "- $P(e\\cap T) = 0.1$,\n",
    "\n",
    "where $H$ is the event of a particular coin toss coming up \"heads\" and $T$ is the event of that same coin toss coming up \"tails\". Suppose we also know that the coin is weighted unfairly, in such a way that the coin has a 60% chance of coming up \"tails\" and a 40% chance of coming up \"heads\".\n",
    "\n",
    "Notice that H and T together have an interesting relationship. In particular:\n",
    "\n",
    "- $P(H\\cap T) = 0$, i.e. the two events are mutually *exclusive*; and\n",
    "- $P(H\\cup T) = 1$, i.e. the two events are jointly *exhaustive* of all possibilities.\n",
    "\n",
    "Any set of two or more events with these two features (where, strictly, for no event $z$ do we have $P(z) = 0$) is said to **partition** the space of possibilities. In our case, we have $\\Omega = \\{H, T\\}$.\n",
    "\n",
    "For an aribtrary partition, $\\Omega = \\{\\xi_1, ..., \\xi_n\\}$, the ***law of total probability*** tells us the following:\n",
    "\n",
    "$P(e) = P(e\\cap\\xi_1) + ... + P(e\\cap\\xi_n) = P(e | \\xi_1)\\times P(\\xi_1) + ... + P(e | \\xi_n)\\times P(\\xi_n)$.\n",
    "\n",
    "Going back to our example with Two-Face, we can now solve the original question of the probability that Two-Face will free his hostages.\n",
    "\n",
    "What we really want to know is:\n",
    "\n",
    "$P(e)$, the probability that Two-Face will free his hostages.\n",
    "\n",
    "We calculate:\n",
    "\n",
    "$P(e) = P(e | H)\\times P(H) + P(e | T)\\times P(T) = (0.9)(0.4) + (0.1)(0.6) = 0.36 + 0.06 = 0.42$. Not great; we may need Batman to step in and alter the conditional probabilities."
   ]
  },
  {
   "cell_type": "code",
   "execution_count": null,
   "metadata": {},
   "outputs": [],
   "source": []
  }
 ],
 "metadata": {
  "kernelspec": {
   "display_name": "Python 3",
   "language": "python",
   "name": "python3"
  },
  "language_info": {
   "codemirror_mode": {
    "name": "ipython",
    "version": 3
   },
   "file_extension": ".py",
   "mimetype": "text/x-python",
   "name": "python",
   "nbconvert_exporter": "python",
   "pygments_lexer": "ipython3",
   "version": "3.6.9"
  }
 },
 "nbformat": 4,
 "nbformat_minor": 4
}
